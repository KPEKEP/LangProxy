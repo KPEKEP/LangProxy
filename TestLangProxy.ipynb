{
 "cells": [
  {
   "cell_type": "code",
   "execution_count": null,
   "id": "20d2e1be-b035-466f-b612-c3ff0d20a13a",
   "metadata": {},
   "outputs": [],
   "source": [
    "from openai import OpenAI\n",
    "\n",
    "# init client and connect to localhost server\n",
    "client = OpenAI(\n",
    "    api_key=\"fake-api-key\",\n",
    "    base_url=\"http://localhost:8000/\" # change the default port if needed\n",
    ")\n",
    "\n",
    "stream = client.chat.completions.create(\n",
    "    model=\"lmstudio-community/Meta-Llama-3-8B-Instruct-GGUF/Meta-Llama-3-8B-Instruct-Q8_0.gguf\",\n",
    "    messages=[{\"role\": \"user\", \"content\": \"Привет! как дела?\"}, {\"role\": \"assistant\", \"content\":\"Я хорошо, спасибо, что спросили!\"}, {\"role\": \"user\", \"content\": \"Напиши функцию на языке python чтобы вычисляла числа Фибоначчи\"}],\n",
    "    stream=False,\n",
    ")\n",
    "print(stream.choices[0].message.content)"
   ]
  },
  {
   "cell_type": "code",
   "execution_count": null,
   "id": "7f02bf3c-f54b-4b65-92cb-461ab6b055bb",
   "metadata": {},
   "outputs": [],
   "source": []
  }
 ],
 "metadata": {
  "kernelspec": {
   "display_name": "Python 3 (ipykernel)",
   "language": "python",
   "name": "python3"
  },
  "language_info": {
   "codemirror_mode": {
    "name": "ipython",
    "version": 3
   },
   "file_extension": ".py",
   "mimetype": "text/x-python",
   "name": "python",
   "nbconvert_exporter": "python",
   "pygments_lexer": "ipython3",
   "version": "3.11.5"
  }
 },
 "nbformat": 4,
 "nbformat_minor": 5
}
